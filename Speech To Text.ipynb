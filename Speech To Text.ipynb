{
 "cells": [
  {
   "cell_type": "code",
   "execution_count": 8,
   "metadata": {},
   "outputs": [],
   "source": [
    "import soundfile as sf\n",
    "import pyaudio\n",
    "import wave\n",
    "from openai import OpenAI"
   ]
  },
  {
   "cell_type": "code",
   "execution_count": 9,
   "metadata": {},
   "outputs": [],
   "source": [
    "def audio(): #Function to record audio\n",
    "       \n",
    "    FORMAT = pyaudio.paInt16 # data format\n",
    "    CHANNELS = 1 # mono, change to 2 if you want stereo\n",
    "    RATE = 44100 # sample rate\n",
    "    CHUNK = 1024 # frames per buffer\n",
    "    RECORD_SECONDS = 5 # change this to the duration you want to record\n",
    "    WAVE_OUTPUT_FILENAME = \"output.wav\"\n",
    "\n",
    "    audio = pyaudio.PyAudio()\n",
    "\n",
    "    # Start recording\n",
    "    stream = audio.open(format=FORMAT, channels=CHANNELS,\n",
    "                        rate=RATE, input=True,\n",
    "                        frames_per_buffer=CHUNK)\n",
    "    print(\"Recording...\")\n",
    "\n",
    "    frames = []\n",
    "\n",
    "    for i in range(0, int(RATE / CHUNK * RECORD_SECONDS)):\n",
    "        data = stream.read(CHUNK)\n",
    "        frames.append(data)\n",
    "\n",
    "    print(\"Finished recording.\")\n",
    "\n",
    "    # Stop recording\n",
    "    stream.stop_stream()\n",
    "    stream.close()\n",
    "    audio.terminate()\n",
    "\n",
    "    # Save the recorded data as a WAV file\n",
    "    with wave.open(WAVE_OUTPUT_FILENAME, 'wb') as wf:\n",
    "        wf.setnchannels(CHANNELS)\n",
    "        wf.setsampwidth(audio.get_sample_size(FORMAT))\n",
    "        wf.setframerate(RATE)\n",
    "        wf.writeframes(b''.join(frames))\n"
   ]
  },
  {
   "cell_type": "code",
   "execution_count": 10,
   "metadata": {},
   "outputs": [],
   "source": [
    "#audio()"
   ]
  },
  {
   "cell_type": "code",
   "execution_count": 11,
   "metadata": {},
   "outputs": [],
   "source": [
    "\"\"\"def convert_audio_to_text():\n",
    "    # Load the audio file\n",
    "    audio_file = \"output.wav\"\n",
    "    audio, samplerate = sf.read(audio_file)\n",
    "\n",
    "    # Convert the audio to text\n",
    "    openai = OpenAI()\n",
    "    text = openai.speech_to_text(audio, samplerate)\n",
    "\n",
    "    print(\"Transcription:\")\n",
    "    print(text)\"\"\"\n",
    "\n",
    "def convert_audio_to_text(audiofile):\n",
    "    \"\"\"Converts an audio file to text using OpenAI Whisper API.\"\"\"\n",
    "    \n",
    "    with open(audiofile, \"rb\") as audio_file:\n",
    "        transcript = client.audio.transcriptions.create(\n",
    "            model=\"whisper-1\", \n",
    "            file=audio_file, \n",
    "            response_format=\"text\"\n",
    "        )\n",
    "    \n",
    "    return transcript  # Return the transcribed text\n"
   ]
  },
  {
   "cell_type": "code",
   "execution_count": null,
   "metadata": {},
   "outputs": [],
   "source": [
    "def main():\n",
    "    audio_path = \"How To Convert MP4 To Text.mp3\" \n",
    "    transcribed_text = convert_audio_to_text(audio_path)\n",
    "    print(transcribed_text)"
   ]
  },
  {
   "cell_type": "code",
   "execution_count": 13,
   "metadata": {},
   "outputs": [
    {
     "name": "stdout",
     "output_type": "stream",
     "text": [
      "Hello, hello, hello. I'm Tyler Bryden. I hope you're having a wonderful day. In this video I'm going to show you how you can easily convert an mp4 to text and you're asking maybe who am I? Well, I am lucky enough to work at a great company called Speak AI. I helped found this company and we work with over 10,000 teams, organizations to use transcription and natural language processing to do some awesome stuff with audio video and text data and if you are interested in converting mp4 to text, it's very easy to do with the platform. We have a dedicated landing page with a guide on how to do it. And if you want to, you know, start that process very simply, you can hit the start free trial. If you don't have an account yet, 14 day free trial, 30 minutes free. So if it's under 30 minutes, you can easily upload that right away. Or if you already have an account, thank you very much, you can log in. And when you log in, what's going to happen is you're going to be taken to this dashboard area and there's a bunch of quick actions here. In this video specifically, we can hit up at the top, we can hit capture and new upload or I can just hit the quick action piece here. I can go new upload, I can upload the file and it's going to open my file explorer. We'll do the same thing in Finder if you're on Mac. I have nicely labeled everything here and I've got a sample little video mp4 file that is ready to go. Now, if you are in different languages, you can easily change those languages. This one is in English. And by default, this file is going to go into an unassigned folder. In my case, I'm actually going to say, hey, you know what? I want to go to the demo media file and then I'm ready to upload and proceed. So this will take a second. It's a very short video. If you have a credit card on the account, you can, and it's over the 30 minutes if you're doing a free trial, you can use that credit card to pay or there's a really nice way to add a balance on the account and just use it from there. I'll drop a link in the description below. Once that is good to go, I can hit confirm. Transaction will success. We'll say success. We'll finalize your upload. Again, should be pretty quick and simple for an eight second video like this. And then I can actually go to the folder now. You will receive an email when your transcription is ready. It will actually give you a link to that. So I have the demo video here. You can see that it is analyzing that video. It will take, you know, a couple you know, seconds slash minutes to do it because we do both the transcription and the analysis. As soon as that video comes back, you will be able to see all the speakers identified. You will be able to see, you know, awesome keywords and everything extracted out of it. But more importantly for you because you're trying to convert an mp4 to text, the transcription is right here and ready to go. And in that case, you can instantly search. I can hit, you know, product. I can type. I can jump into this to that specific moment. Listen to that piece. I can edit the transcription if I want. So some awesome editing functions and there's great more tutorials and guides on that editing function. And then I can easily export to different formats, customize how I want to export that format. And even if I'm, you know, really focused on the, you know, quality of the transcription, maybe automated transcription is enough. There's a professional transcription layer. You can easily and seamlessly order a professional transcription from our talented team. And you can also use what's really cool. This is a awesome release, this magic prompt system. So if you're looking for specific answers out of the file that you have, I can say, hey, give me the, you know, top action items. I can hit submit and it's going to give me those top action items. So that's a very simple process of how to upload and convert an mp4 into text. Again, dashboard, capture, new upload, simply go ahead. And then the video, once it's analyzed, I think this one will just be finishing up. It's all ready to go. You can see the speakers, what I've talked about here, and then the transcript and everything. So very quick, very simple. If you already have an account, you can log in and do this. And if you, you know, don't have an account on Speak, feel encouraged to sign up. We really continue to grow the platform. It does some awesome stuff. We've got 10,000 people using it. And you can have a 14 day, no risk trial with 30 minutes included. We look forward to seeing on the platform. And if you ever need any help, feel encouraged to send us a message. We've got a great live chat, some great support and are always here and happy to help. Thank you so much.\n",
      "\n"
     ]
    }
   ],
   "source": [
    "main()"
   ]
  }
 ],
 "metadata": {
  "kernelspec": {
   "display_name": "base",
   "language": "python",
   "name": "python3"
  },
  "language_info": {
   "codemirror_mode": {
    "name": "ipython",
    "version": 3
   },
   "file_extension": ".py",
   "mimetype": "text/x-python",
   "name": "python",
   "nbconvert_exporter": "python",
   "pygments_lexer": "ipython3",
   "version": "3.12.7"
  }
 },
 "nbformat": 4,
 "nbformat_minor": 2
}
