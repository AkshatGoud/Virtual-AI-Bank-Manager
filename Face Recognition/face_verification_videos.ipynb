{
 "cells": [
  {
   "cell_type": "markdown",
   "metadata": {},
   "source": [
    "# Face Verification Across Multiple Videos\n",
    "This notebook extracts faces from multiple videos, generates face embeddings, and checks if the same face appears in all videos."
   ]
  },
  {
   "cell_type": "code",
   "execution_count": 1,
   "metadata": {
    "id": "install_dependencies"
   },
   "outputs": [
    {
     "name": "stdout",
     "output_type": "stream",
     "text": [
      "Requirement already satisfied: opencv-python in /Users/akshat/anaconda3/envs/VirtualAI/lib/python3.11/site-packages (4.11.0.86)\n",
      "Requirement already satisfied: deepface in /Users/akshat/anaconda3/envs/VirtualAI/lib/python3.11/site-packages (0.0.93)\n",
      "Requirement already satisfied: mtcnn in /Users/akshat/anaconda3/envs/VirtualAI/lib/python3.11/site-packages (1.0.0)\n",
      "Requirement already satisfied: numpy in /Users/akshat/anaconda3/envs/VirtualAI/lib/python3.11/site-packages (2.1.3)\n",
      "Requirement already satisfied: scipy in /Users/akshat/anaconda3/envs/VirtualAI/lib/python3.11/site-packages (1.15.2)\n",
      "Requirement already satisfied: requests>=2.27.1 in /Users/akshat/anaconda3/envs/VirtualAI/lib/python3.11/site-packages (from deepface) (2.32.3)\n",
      "Requirement already satisfied: pandas>=0.23.4 in /Users/akshat/anaconda3/envs/VirtualAI/lib/python3.11/site-packages (from deepface) (2.2.3)\n",
      "Requirement already satisfied: gdown>=3.10.1 in /Users/akshat/anaconda3/envs/VirtualAI/lib/python3.11/site-packages (from deepface) (5.2.0)\n",
      "Requirement already satisfied: tqdm>=4.30.0 in /Users/akshat/anaconda3/envs/VirtualAI/lib/python3.11/site-packages (from deepface) (4.67.1)\n",
      "Requirement already satisfied: Pillow>=5.2.0 in /Users/akshat/anaconda3/envs/VirtualAI/lib/python3.11/site-packages (from deepface) (11.1.0)\n",
      "Requirement already satisfied: tensorflow>=1.9.0 in /Users/akshat/anaconda3/envs/VirtualAI/lib/python3.11/site-packages (from deepface) (2.19.0)\n",
      "Requirement already satisfied: keras>=2.2.0 in /Users/akshat/anaconda3/envs/VirtualAI/lib/python3.11/site-packages (from deepface) (3.9.0)\n",
      "Requirement already satisfied: Flask>=1.1.2 in /Users/akshat/anaconda3/envs/VirtualAI/lib/python3.11/site-packages (from deepface) (3.1.0)\n",
      "Requirement already satisfied: flask-cors>=4.0.1 in /Users/akshat/anaconda3/envs/VirtualAI/lib/python3.11/site-packages (from deepface) (5.0.1)\n",
      "Requirement already satisfied: retina-face>=0.0.1 in /Users/akshat/anaconda3/envs/VirtualAI/lib/python3.11/site-packages (from deepface) (0.0.17)\n",
      "Requirement already satisfied: fire>=0.4.0 in /Users/akshat/anaconda3/envs/VirtualAI/lib/python3.11/site-packages (from deepface) (0.7.0)\n",
      "Requirement already satisfied: gunicorn>=20.1.0 in /Users/akshat/anaconda3/envs/VirtualAI/lib/python3.11/site-packages (from deepface) (23.0.0)\n",
      "Requirement already satisfied: joblib>=1.4.2 in /Users/akshat/anaconda3/envs/VirtualAI/lib/python3.11/site-packages (from mtcnn) (1.4.2)\n",
      "Requirement already satisfied: lz4>=4.3.3 in /Users/akshat/anaconda3/envs/VirtualAI/lib/python3.11/site-packages (from mtcnn) (4.4.3)\n",
      "Requirement already satisfied: termcolor in /Users/akshat/anaconda3/envs/VirtualAI/lib/python3.11/site-packages (from fire>=0.4.0->deepface) (2.5.0)\n",
      "Requirement already satisfied: Werkzeug>=3.1 in /Users/akshat/anaconda3/envs/VirtualAI/lib/python3.11/site-packages (from Flask>=1.1.2->deepface) (3.1.3)\n",
      "Requirement already satisfied: Jinja2>=3.1.2 in /Users/akshat/anaconda3/envs/VirtualAI/lib/python3.11/site-packages (from Flask>=1.1.2->deepface) (3.1.6)\n",
      "Requirement already satisfied: itsdangerous>=2.2 in /Users/akshat/anaconda3/envs/VirtualAI/lib/python3.11/site-packages (from Flask>=1.1.2->deepface) (2.2.0)\n",
      "Requirement already satisfied: click>=8.1.3 in /Users/akshat/anaconda3/envs/VirtualAI/lib/python3.11/site-packages (from Flask>=1.1.2->deepface) (8.1.8)\n",
      "Requirement already satisfied: blinker>=1.9 in /Users/akshat/anaconda3/envs/VirtualAI/lib/python3.11/site-packages (from Flask>=1.1.2->deepface) (1.9.0)\n",
      "Requirement already satisfied: beautifulsoup4 in /Users/akshat/anaconda3/envs/VirtualAI/lib/python3.11/site-packages (from gdown>=3.10.1->deepface) (4.13.3)\n",
      "Requirement already satisfied: filelock in /Users/akshat/anaconda3/envs/VirtualAI/lib/python3.11/site-packages (from gdown>=3.10.1->deepface) (3.18.0)\n",
      "Requirement already satisfied: packaging in /Users/akshat/anaconda3/envs/VirtualAI/lib/python3.11/site-packages (from gunicorn>=20.1.0->deepface) (24.2)\n",
      "Requirement already satisfied: absl-py in /Users/akshat/anaconda3/envs/VirtualAI/lib/python3.11/site-packages (from keras>=2.2.0->deepface) (2.1.0)\n",
      "Requirement already satisfied: rich in /Users/akshat/anaconda3/envs/VirtualAI/lib/python3.11/site-packages (from keras>=2.2.0->deepface) (13.9.4)\n",
      "Requirement already satisfied: namex in /Users/akshat/anaconda3/envs/VirtualAI/lib/python3.11/site-packages (from keras>=2.2.0->deepface) (0.0.8)\n",
      "Requirement already satisfied: h5py in /Users/akshat/anaconda3/envs/VirtualAI/lib/python3.11/site-packages (from keras>=2.2.0->deepface) (3.13.0)\n",
      "Requirement already satisfied: optree in /Users/akshat/anaconda3/envs/VirtualAI/lib/python3.11/site-packages (from keras>=2.2.0->deepface) (0.14.1)\n",
      "Requirement already satisfied: ml-dtypes in /Users/akshat/anaconda3/envs/VirtualAI/lib/python3.11/site-packages (from keras>=2.2.0->deepface) (0.5.1)\n",
      "Requirement already satisfied: python-dateutil>=2.8.2 in /Users/akshat/anaconda3/envs/VirtualAI/lib/python3.11/site-packages (from pandas>=0.23.4->deepface) (2.9.0.post0)\n",
      "Requirement already satisfied: pytz>=2020.1 in /Users/akshat/anaconda3/envs/VirtualAI/lib/python3.11/site-packages (from pandas>=0.23.4->deepface) (2025.1)\n",
      "Requirement already satisfied: tzdata>=2022.7 in /Users/akshat/anaconda3/envs/VirtualAI/lib/python3.11/site-packages (from pandas>=0.23.4->deepface) (2025.1)\n",
      "Requirement already satisfied: charset-normalizer<4,>=2 in /Users/akshat/anaconda3/envs/VirtualAI/lib/python3.11/site-packages (from requests>=2.27.1->deepface) (3.4.1)\n",
      "Requirement already satisfied: idna<4,>=2.5 in /Users/akshat/anaconda3/envs/VirtualAI/lib/python3.11/site-packages (from requests>=2.27.1->deepface) (3.10)\n",
      "Requirement already satisfied: urllib3<3,>=1.21.1 in /Users/akshat/anaconda3/envs/VirtualAI/lib/python3.11/site-packages (from requests>=2.27.1->deepface) (2.3.0)\n",
      "Requirement already satisfied: certifi>=2017.4.17 in /Users/akshat/anaconda3/envs/VirtualAI/lib/python3.11/site-packages (from requests>=2.27.1->deepface) (2025.1.31)\n",
      "Requirement already satisfied: astunparse>=1.6.0 in /Users/akshat/anaconda3/envs/VirtualAI/lib/python3.11/site-packages (from tensorflow>=1.9.0->deepface) (1.6.3)\n",
      "Requirement already satisfied: flatbuffers>=24.3.25 in /Users/akshat/anaconda3/envs/VirtualAI/lib/python3.11/site-packages (from tensorflow>=1.9.0->deepface) (25.2.10)\n",
      "Requirement already satisfied: gast!=0.5.0,!=0.5.1,!=0.5.2,>=0.2.1 in /Users/akshat/anaconda3/envs/VirtualAI/lib/python3.11/site-packages (from tensorflow>=1.9.0->deepface) (0.6.0)\n",
      "Requirement already satisfied: google-pasta>=0.1.1 in /Users/akshat/anaconda3/envs/VirtualAI/lib/python3.11/site-packages (from tensorflow>=1.9.0->deepface) (0.2.0)\n",
      "Requirement already satisfied: libclang>=13.0.0 in /Users/akshat/anaconda3/envs/VirtualAI/lib/python3.11/site-packages (from tensorflow>=1.9.0->deepface) (18.1.1)\n",
      "Requirement already satisfied: opt-einsum>=2.3.2 in /Users/akshat/anaconda3/envs/VirtualAI/lib/python3.11/site-packages (from tensorflow>=1.9.0->deepface) (3.4.0)\n",
      "Requirement already satisfied: protobuf!=4.21.0,!=4.21.1,!=4.21.2,!=4.21.3,!=4.21.4,!=4.21.5,<6.0.0dev,>=3.20.3 in /Users/akshat/anaconda3/envs/VirtualAI/lib/python3.11/site-packages (from tensorflow>=1.9.0->deepface) (5.29.3)\n",
      "Requirement already satisfied: setuptools in /Users/akshat/anaconda3/envs/VirtualAI/lib/python3.11/site-packages (from tensorflow>=1.9.0->deepface) (75.8.0)\n",
      "Requirement already satisfied: six>=1.12.0 in /Users/akshat/anaconda3/envs/VirtualAI/lib/python3.11/site-packages (from tensorflow>=1.9.0->deepface) (1.17.0)\n",
      "Requirement already satisfied: typing-extensions>=3.6.6 in /Users/akshat/anaconda3/envs/VirtualAI/lib/python3.11/site-packages (from tensorflow>=1.9.0->deepface) (4.12.2)\n",
      "Requirement already satisfied: wrapt>=1.11.0 in /Users/akshat/anaconda3/envs/VirtualAI/lib/python3.11/site-packages (from tensorflow>=1.9.0->deepface) (1.17.2)\n",
      "Requirement already satisfied: grpcio<2.0,>=1.24.3 in /Users/akshat/anaconda3/envs/VirtualAI/lib/python3.11/site-packages (from tensorflow>=1.9.0->deepface) (1.71.0)\n",
      "Requirement already satisfied: tensorboard~=2.19.0 in /Users/akshat/anaconda3/envs/VirtualAI/lib/python3.11/site-packages (from tensorflow>=1.9.0->deepface) (2.19.0)\n",
      "Requirement already satisfied: tensorflow-io-gcs-filesystem>=0.23.1 in /Users/akshat/anaconda3/envs/VirtualAI/lib/python3.11/site-packages (from tensorflow>=1.9.0->deepface) (0.37.1)\n",
      "Requirement already satisfied: wheel<1.0,>=0.23.0 in /Users/akshat/anaconda3/envs/VirtualAI/lib/python3.11/site-packages (from astunparse>=1.6.0->tensorflow>=1.9.0->deepface) (0.45.1)\n",
      "Requirement already satisfied: MarkupSafe>=2.0 in /Users/akshat/anaconda3/envs/VirtualAI/lib/python3.11/site-packages (from Jinja2>=3.1.2->Flask>=1.1.2->deepface) (3.0.2)\n",
      "Requirement already satisfied: markdown>=2.6.8 in /Users/akshat/anaconda3/envs/VirtualAI/lib/python3.11/site-packages (from tensorboard~=2.19.0->tensorflow>=1.9.0->deepface) (3.7)\n",
      "Requirement already satisfied: tensorboard-data-server<0.8.0,>=0.7.0 in /Users/akshat/anaconda3/envs/VirtualAI/lib/python3.11/site-packages (from tensorboard~=2.19.0->tensorflow>=1.9.0->deepface) (0.7.2)\n",
      "Requirement already satisfied: soupsieve>1.2 in /Users/akshat/anaconda3/envs/VirtualAI/lib/python3.11/site-packages (from beautifulsoup4->gdown>=3.10.1->deepface) (2.6)\n",
      "Requirement already satisfied: PySocks!=1.5.7,>=1.5.6 in /Users/akshat/anaconda3/envs/VirtualAI/lib/python3.11/site-packages (from requests[socks]->gdown>=3.10.1->deepface) (1.7.1)\n",
      "Requirement already satisfied: markdown-it-py>=2.2.0 in /Users/akshat/anaconda3/envs/VirtualAI/lib/python3.11/site-packages (from rich->keras>=2.2.0->deepface) (3.0.0)\n",
      "Requirement already satisfied: pygments<3.0.0,>=2.13.0 in /Users/akshat/anaconda3/envs/VirtualAI/lib/python3.11/site-packages (from rich->keras>=2.2.0->deepface) (2.19.1)\n",
      "Requirement already satisfied: mdurl~=0.1 in /Users/akshat/anaconda3/envs/VirtualAI/lib/python3.11/site-packages (from markdown-it-py>=2.2.0->rich->keras>=2.2.0->deepface) (0.1.2)\n"
     ]
    }
   ],
   "source": [
    "!pip install opencv-python deepface mtcnn numpy scipy"
   ]
  },
  {
   "cell_type": "code",
   "execution_count": 2,
   "metadata": {
    "id": "import_libraries"
   },
   "outputs": [],
   "source": [
    "import cv2\n",
    "import os\n",
    "import numpy as np\n",
    "from deepface import DeepFace\n",
    "from mtcnn import MTCNN\n",
    "from scipy.spatial.distance import cosine\n",
    "\n",
    "detector = MTCNN()"
   ]
  },
  {
   "cell_type": "markdown",
   "metadata": {},
   "source": [
    "## Step 1: Extract Frames from Videos"
   ]
  },
  {
   "cell_type": "code",
   "execution_count": 3,
   "metadata": {
    "id": "extract_frames"
   },
   "outputs": [],
   "source": [
    "def extract_frames(video_path, output_folder, frame_interval=30):\n",
    "    os.makedirs(output_folder, exist_ok=True)\n",
    "    cap = cv2.VideoCapture(video_path)\n",
    "    frame_count = 0\n",
    "    success, frame = cap.read()\n",
    "    \n",
    "    while success:\n",
    "        if frame_count % frame_interval == 0:\n",
    "            frame_path = os.path.join(output_folder, f\"frame_{frame_count}.jpg\")\n",
    "            cv2.imwrite(frame_path, frame)\n",
    "        success, frame = cap.read()\n",
    "        frame_count += 1\n",
    "    cap.release()\n",
    "    return output_folder"
   ]
  },
  {
   "cell_type": "markdown",
   "metadata": {},
   "source": [
    "## Step 2: Detect Faces in Extracted Frames"
   ]
  },
  {
   "cell_type": "code",
   "execution_count": 4,
   "metadata": {
    "id": "detect_faces"
   },
   "outputs": [],
   "source": [
    "def detect_faces(image_path):\n",
    "    image = cv2.imread(image_path)\n",
    "    faces = detector.detect_faces(image)\n",
    "    \n",
    "    if faces:\n",
    "        x, y, width, height = faces[0]['box']\n",
    "        face_img = image[y:y+height, x:x+width]\n",
    "        return face_img\n",
    "    return None"
   ]
  },
  {
   "cell_type": "markdown",
   "metadata": {},
   "source": [
    "## Step 3: Extract Face Embeddings using DeepFace"
   ]
  },
  {
   "cell_type": "code",
   "execution_count": 5,
   "metadata": {
    "id": "get_face_embedding"
   },
   "outputs": [],
   "source": [
    "def get_face_embedding(face_img):\n",
    "    temp_path = \"temp_face.jpg\"\n",
    "    cv2.imwrite(temp_path, face_img)\n",
    "    try:\n",
    "        embedding = DeepFace.represent(img_path=temp_path, model_name=\"ArcFace\")[0][\"embedding\"]\n",
    "        return np.array(embedding)\n",
    "    except Exception as e:\n",
    "        print(f\"Embedding generation failed: {e}\")\n",
    "        return None"
   ]
  },
  {
   "cell_type": "markdown",
   "metadata": {},
   "source": [
    "## Step 4: Compare Faces Across Videos"
   ]
  },
  {
   "cell_type": "code",
   "execution_count": 6,
   "metadata": {
    "id": "compare_faces"
   },
   "outputs": [],
   "source": [
    "def is_same_person(embedding1, embedding2, threshold=0.5):\n",
    "    if embedding1 is None or embedding2 is None:\n",
    "        return False\n",
    "    return cosine(embedding1, embedding2) < threshold"
   ]
  },
  {
   "cell_type": "markdown",
   "metadata": {},
   "source": [
    "## Step 5: Full Pipeline for Multiple Videos"
   ]
  },
  {
   "cell_type": "code",
   "execution_count": 7,
   "metadata": {
    "id": "process_videos"
   },
   "outputs": [],
   "source": [
    "def process_videos(video_paths):\n",
    "    reference_embedding = None\n",
    "    results = {}\n",
    "    \n",
    "    for idx, video_path in enumerate(video_paths):\n",
    "        print(f\"Processing {video_path}...\")\n",
    "        \n",
    "        output_folder = f\"frames_video_{idx}\"\n",
    "        extract_frames(video_path, output_folder)\n",
    "        \n",
    "        frame_files = sorted(os.listdir(output_folder))\n",
    "        detected_face = None\n",
    "        \n",
    "        for frame in frame_files:\n",
    "            face_img = detect_faces(os.path.join(output_folder, frame))\n",
    "            if face_img is not None:\n",
    "                detected_face = face_img\n",
    "                break\n",
    "        \n",
    "        if detected_face is None:\n",
    "            results[video_path] = \"No face detected\"\n",
    "            continue\n",
    "        \n",
    "        embedding = get_face_embedding(detected_face)\n",
    "        \n",
    "        if embedding is None:\n",
    "            results[video_path] = \"Face detected, but embedding not generated\"\n",
    "            continue\n",
    "        \n",
    "        if reference_embedding is None:\n",
    "            reference_embedding = embedding\n",
    "            results[video_path] = \"Reference face set\"\n",
    "        else:\n",
    "            if is_same_person(reference_embedding, embedding):\n",
    "                results[video_path] = \"Same face detected\"\n",
    "            else:\n",
    "                results[video_path] = \"Different face detected\"\n",
    "    \n",
    "    return results"
   ]
  },
  {
   "cell_type": "markdown",
   "metadata": {},
   "source": [
    "## Run the Model"
   ]
  },
  {
   "cell_type": "code",
   "execution_count": 9,
   "metadata": {
    "id": "run_model"
   },
   "outputs": [
    {
     "name": "stdout",
     "output_type": "stream",
     "text": [
      "Processing Face Recognition/Test1.mov...\n",
      "Processing Face Recognition/Test2.mov...\n",
      "Processing Face Recognition/Test3.mov...\n",
      "Processing Face Recognition/Test4.mov...\n",
      "Face Recognition/Test1.mov: Reference face set\n",
      "Face Recognition/Test2.mov: Different face detected\n",
      "Face Recognition/Test3.mov: Same face detected\n",
      "Face Recognition/Test4.mov: Same face detected\n"
     ]
    }
   ],
   "source": [
    "video_list = [\"Face Recognition/Test1.mov\", \"Face Recognition/Test2.mov\", \"Face Recognition/Test3.mov\",\"Face Recognition/Test4.mov\"]\n",
    "\n",
    "verification_results = process_videos(video_list)\n",
    "\n",
    "for video, result in verification_results.items():\n",
    "    print(f\"{video}: {result}\")"
   ]
  }
 ],
 "metadata": {
  "kernelspec": {
   "display_name": "VirtualAI",
   "language": "python",
   "name": "python3"
  },
  "language_info": {
   "codemirror_mode": {
    "name": "ipython",
    "version": 3
   },
   "file_extension": ".py",
   "mimetype": "text/x-python",
   "name": "python",
   "nbconvert_exporter": "python",
   "pygments_lexer": "ipython3",
   "version": "3.11.11"
  }
 },
 "nbformat": 4,
 "nbformat_minor": 4
}
